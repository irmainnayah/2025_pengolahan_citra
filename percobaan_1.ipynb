{
  "nbformat": 4,
  "nbformat_minor": 0,
  "metadata": {
    "colab": {
      "provenance": [],
      "authorship_tag": "ABX9TyM9FWBV6yR3VXKphSW1ZYz4",
      "include_colab_link": true
    },
    "kernelspec": {
      "name": "python3",
      "display_name": "Python 3"
    },
    "language_info": {
      "name": "python"
    }
  },
  "cells": [
    {
      "cell_type": "markdown",
      "metadata": {
        "id": "view-in-github",
        "colab_type": "text"
      },
      "source": [
        "<a href=\"https://colab.research.google.com/github/irmainnayah/2025_pengolahan_citra/blob/main/percobaan_1.ipynb\" target=\"_parent\"><img src=\"https://colab.research.google.com/assets/colab-badge.svg\" alt=\"Open In Colab\"/></a>"
      ]
    },
    {
      "cell_type": "markdown",
      "source": [
        "#Dasar Berkas Gambar"
      ],
      "metadata": {
        "id": "FV5-Zz2H9U4o"
      }
    },
    {
      "cell_type": "code",
      "source": [
        "print('Hiii cantikk kiww kiww')"
      ],
      "metadata": {
        "colab": {
          "base_uri": "https://localhost:8080/"
        },
        "id": "QZsWwiOW9fVH",
        "outputId": "42cdf142-e7b1-4ed4-b821-ce53eaa13314"
      },
      "execution_count": null,
      "outputs": [
        {
          "output_type": "stream",
          "name": "stdout",
          "text": [
            "Hiii cantikk kiww kiww\n"
          ]
        }
      ]
    },
    {
      "cell_type": "code",
      "source": [
        "import numpy as np\n",
        "import matplotlib.pyplot as plt\n",
        "from skimage import data\n",
        "\n",
        "# Contoh gambar dari scikit-image\n",
        "gambar_coins = data.coins()\n",
        "gambar_camera = data.camera()\n",
        "gambar_astronaut = data.astronaut()\n",
        "\n",
        "# Fungsi untuk menghitung ukuran gambar dalam bit, byte, KB, MB\n",
        " def hitung_ukuran(image):\n",
        "\n",
        "bit_per_pixel = 8 if len(image.shape) == 2 else 24  # Grayscale = 8\n",
        "bit, RGB = 24 bit\n",
        "     total_pixels = image.shape[0] * image.shape[1]\n",
        "     total_bits = total_pixels * bit_per_pixel\n",
        "     total_bytes = total_bits / 8\n",
        "     total_kb = total_bytes / 1024\n",
        "     total_mb = total_kb / 1024\n",
        "     return total_bits, total_bytes, total_kb, total_mb\n",
        "\n",
        " # Menyusun gambar dan ukurannya dalam satu baris\n",
        " fig, axes = plt.subplots(1, 3, figsize=(15, 5))\n",
        "\n",
        " # Daftar gambar dan nama\n",
        " gambar_list = [gambar_coins, gambar_camera, gambar_astronaut]\n",
        " nama_list = [\"Coins\", \"Camera\", \"Astronaut\"]\n",
        "\n",
        " for ax, img, nama in zip(axes, gambar_list, nama_list):\n",
        "     bits, bytes_, kb, mb = hitung_ukuran(img)\n",
        "     ax.imshow(img, cmap='gray' if len(img.shape) == 2 else None)\n",
        "\n",
        "ax.set_title(f\"{nama}\\n{bits} bit, {bytes_:.2f} B\\n{kb:.2f} KB,\n",
        "{mb:.4f} MB\")\n",
        "     ax.axis('off')\n",
        "\n",
        " plt.tight_layout()\n",
        " plt.show()"
      ],
      "metadata": {
        "id": "h787bOe_9xP5"
      },
      "execution_count": null,
      "outputs": []
    },
    {
      "cell_type": "markdown",
      "source": [],
      "metadata": {
        "id": "t33bM1dBAYIk"
      }
    }
  ]
}