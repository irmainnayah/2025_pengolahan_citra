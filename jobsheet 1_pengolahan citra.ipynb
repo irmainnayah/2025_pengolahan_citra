{
  "nbformat": 4,
  "nbformat_minor": 0,
  "metadata": {
    "colab": {
      "provenance": [],
      "authorship_tag": "ABX9TyMZ3a9mNbbAlimlTs5X6BZJ",
      "include_colab_link": true
    },
    "kernelspec": {
      "name": "python3",
      "display_name": "Python 3"
    },
    "language_info": {
      "name": "python"
    }
  },
  "cells": [
    {
      "cell_type": "markdown",
      "metadata": {
        "id": "view-in-github",
        "colab_type": "text"
      },
      "source": [
        "<a href=\"https://colab.research.google.com/github/irmainnayah/2025_pengolahan_citra/blob/main/jobsheet%201_pengolahan%20citra.ipynb\" target=\"_parent\"><img src=\"https://colab.research.google.com/assets/colab-badge.svg\" alt=\"Open In Colab\"/></a>"
      ]
    },
    {
      "cell_type": "markdown",
      "source": [
        "#Dasar Berkas Gambar"
      ],
      "metadata": {
        "id": "FV5-Zz2H9U4o"
      }
    },
    {
      "cell_type": "code",
      "source": [
        "print('Hiii cantikk kiww kiww')"
      ],
      "metadata": {
        "colab": {
          "base_uri": "https://localhost:8080/"
        },
        "id": "QZsWwiOW9fVH",
        "outputId": "42cdf142-e7b1-4ed4-b821-ce53eaa13314"
      },
      "execution_count": 1,
      "outputs": [
        {
          "output_type": "stream",
          "name": "stdout",
          "text": [
            "Hiii cantikk kiww kiww\n"
          ]
        }
      ]
    },
    {
      "cell_type": "code",
      "source": [],
      "metadata": {
        "id": "h787bOe_9xP5"
      },
      "execution_count": null,
      "outputs": []
    }
  ]
}